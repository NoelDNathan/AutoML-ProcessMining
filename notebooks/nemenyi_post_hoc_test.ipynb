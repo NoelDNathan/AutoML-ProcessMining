{
 "cells": [
  {
   "cell_type": "code",
   "execution_count": 47,
   "metadata": {},
   "outputs": [],
   "source": [
    "# %pip install autorank\n",
    "import pandas as pd"
   ]
  },
  {
   "cell_type": "code",
   "execution_count": 56,
   "metadata": {},
   "outputs": [],
   "source": [
    "# df = pd.read_csv('../results/metrics.csv')\n"
   ]
  },
  {
   "cell_type": "code",
   "execution_count": 57,
   "metadata": {},
   "outputs": [],
   "source": [
    "# df.columns = df.columns.str.replace('_scores', '', regex=False)\n",
    "# df.columns = df.columns.str.replace('_scores', '', regex=False)"
   ]
  },
  {
   "cell_type": "code",
   "execution_count": 7,
   "metadata": {},
   "outputs": [
    {
     "data": {
      "text/html": [
       "<div>\n",
       "<style scoped>\n",
       "    .dataframe tbody tr th:only-of-type {\n",
       "        vertical-align: middle;\n",
       "    }\n",
       "\n",
       "    .dataframe tbody tr th {\n",
       "        vertical-align: top;\n",
       "    }\n",
       "\n",
       "    .dataframe thead th {\n",
       "        text-align: right;\n",
       "    }\n",
       "</style>\n",
       "<table border=\"1\" class=\"dataframe\">\n",
       "  <thead>\n",
       "    <tr style=\"text-align: right;\">\n",
       "      <th></th>\n",
       "      <th>Alpha</th>\n",
       "      <th>Heuristic</th>\n",
       "      <th>Inductive</th>\n",
       "      <th>Deap</th>\n",
       "      <th>HyperOpt</th>\n",
       "      <th>Optuna</th>\n",
       "    </tr>\n",
       "  </thead>\n",
       "  <tbody>\n",
       "    <tr>\n",
       "      <th>0</th>\n",
       "      <td>0.4199</td>\n",
       "      <td>0.8890</td>\n",
       "      <td>1.0000</td>\n",
       "      <td>1.0000</td>\n",
       "      <td>0.8825</td>\n",
       "      <td>1.0000</td>\n",
       "    </tr>\n",
       "    <tr>\n",
       "      <th>1</th>\n",
       "      <td>0.4190</td>\n",
       "      <td>0.4768</td>\n",
       "      <td>0.5947</td>\n",
       "      <td>0.9857</td>\n",
       "      <td>0.5736</td>\n",
       "      <td>0.9857</td>\n",
       "    </tr>\n",
       "    <tr>\n",
       "      <th>2</th>\n",
       "      <td>0.8553</td>\n",
       "      <td>0.6057</td>\n",
       "      <td>0.8617</td>\n",
       "      <td>1.0000</td>\n",
       "      <td>0.4901</td>\n",
       "      <td>1.0000</td>\n",
       "    </tr>\n",
       "  </tbody>\n",
       "</table>\n",
       "</div>"
      ],
      "text/plain": [
       "    Alpha  Heuristic  Inductive    Deap  HyperOpt  Optuna\n",
       "0  0.4199     0.8890     1.0000  1.0000    0.8825  1.0000\n",
       "1  0.4190     0.4768     0.5947  0.9857    0.5736  0.9857\n",
       "2  0.8553     0.6057     0.8617  1.0000    0.4901  1.0000"
      ]
     },
     "execution_count": 7,
     "metadata": {},
     "output_type": "execute_result"
    }
   ],
   "source": [
    "import numpy as np\n",
    "import pandas as pd\n",
    "\n",
    "\n",
    "results = np.array([\n",
    "    [0.4199, 0.889, 1, 1, 0.8825, 1],  # Dataset 1: Classifier A, B, C, D\n",
    "    [0.419, 0.4768, 0.5947, 0.9857, 0.5736, 0.9857],  # Dataset 2\n",
    "    [0.8553, 0.6057, 0.8617, 1, 0.4901, 1],  # Dataset 3\n",
    "])\n",
    "# results = np.array([\n",
    "#     [0.4199, 0.889, 1, 1, 0.9057, 1],  # Dataset 1: Classifier A, B, C, D\n",
    "#     [0.419, 0.4768, 0.5947, 0.9857, 0.7131, 0.9857],  # Dataset 2\n",
    "#     [0.8553, 0.6057, 0.8617, 1, 0.5356, 1],  # Dataset 3\n",
    "# ])\n",
    "\n",
    "df = pd.DataFrame(results, columns= [\"Alpha\", \"Heuristic\", \"Inductive\", \"Deap\", \"HyperOpt\", \"Optuna\"])\n",
    "df"
   ]
  },
  {
   "cell_type": "code",
   "execution_count": 11,
   "metadata": {},
   "outputs": [],
   "source": [
    "results = np.array([\n",
    "    [0.4199, 0.889, 1, 1, 0.8825, 1],  # Dataset 1: Classifier A, B, C, D\n",
    "    [0.419, 0.4768, 0.5947, 0.9857, 0.5736, 0.9857],  # Dataset 2\n",
    "    [0.8553, 0.6057, 0.8617, 1, 0.4901, 1],  # Dataset 3\n",
    "    [0.4199, 0.889, 1, 1, 0.9057, 1],  # Dataset 1: Classifier A, B, C, D\n",
    "    [0.419, 0.4768, 0.5947, 0.9857, 0.7131, 0.9857],  # Dataset 2\n",
    "    [0.8553, 0.6057, 0.8617, 1, 0.5356, 1],  # Dataset 3\n",
    "])"
   ]
  },
  {
   "cell_type": "code",
   "execution_count": 14,
   "metadata": {},
   "outputs": [
    {
     "data": {
      "text/html": [
       "<div>\n",
       "<style scoped>\n",
       "    .dataframe tbody tr th:only-of-type {\n",
       "        vertical-align: middle;\n",
       "    }\n",
       "\n",
       "    .dataframe tbody tr th {\n",
       "        vertical-align: top;\n",
       "    }\n",
       "\n",
       "    .dataframe thead th {\n",
       "        text-align: right;\n",
       "    }\n",
       "</style>\n",
       "<table border=\"1\" class=\"dataframe\">\n",
       "  <thead>\n",
       "    <tr style=\"text-align: right;\">\n",
       "      <th></th>\n",
       "      <th>Alpha</th>\n",
       "      <th>Heuristic</th>\n",
       "      <th>Inductive</th>\n",
       "      <th>Deap</th>\n",
       "      <th>Optuna</th>\n",
       "      <th>HyperOpt</th>\n",
       "    </tr>\n",
       "  </thead>\n",
       "  <tbody>\n",
       "    <tr>\n",
       "      <th>0</th>\n",
       "      <td>0.4199</td>\n",
       "      <td>0.8890</td>\n",
       "      <td>1.0000</td>\n",
       "      <td>1.0000</td>\n",
       "      <td>0.8825</td>\n",
       "      <td>1.0000</td>\n",
       "    </tr>\n",
       "    <tr>\n",
       "      <th>1</th>\n",
       "      <td>0.4190</td>\n",
       "      <td>0.4768</td>\n",
       "      <td>0.5947</td>\n",
       "      <td>0.9857</td>\n",
       "      <td>0.5736</td>\n",
       "      <td>0.9857</td>\n",
       "    </tr>\n",
       "    <tr>\n",
       "      <th>2</th>\n",
       "      <td>0.8553</td>\n",
       "      <td>0.6057</td>\n",
       "      <td>0.8617</td>\n",
       "      <td>1.0000</td>\n",
       "      <td>0.4901</td>\n",
       "      <td>1.0000</td>\n",
       "    </tr>\n",
       "    <tr>\n",
       "      <th>3</th>\n",
       "      <td>0.4199</td>\n",
       "      <td>0.8890</td>\n",
       "      <td>1.0000</td>\n",
       "      <td>1.0000</td>\n",
       "      <td>0.9057</td>\n",
       "      <td>1.0000</td>\n",
       "    </tr>\n",
       "    <tr>\n",
       "      <th>4</th>\n",
       "      <td>0.4190</td>\n",
       "      <td>0.4768</td>\n",
       "      <td>0.5947</td>\n",
       "      <td>0.9857</td>\n",
       "      <td>0.7131</td>\n",
       "      <td>0.9857</td>\n",
       "    </tr>\n",
       "    <tr>\n",
       "      <th>5</th>\n",
       "      <td>0.8553</td>\n",
       "      <td>0.6057</td>\n",
       "      <td>0.8617</td>\n",
       "      <td>1.0000</td>\n",
       "      <td>0.5356</td>\n",
       "      <td>1.0000</td>\n",
       "    </tr>\n",
       "  </tbody>\n",
       "</table>\n",
       "</div>"
      ],
      "text/plain": [
       "    Alpha  Heuristic  Inductive    Deap  Optuna  HyperOpt\n",
       "0  0.4199     0.8890     1.0000  1.0000  0.8825    1.0000\n",
       "1  0.4190     0.4768     0.5947  0.9857  0.5736    0.9857\n",
       "2  0.8553     0.6057     0.8617  1.0000  0.4901    1.0000\n",
       "3  0.4199     0.8890     1.0000  1.0000  0.9057    1.0000\n",
       "4  0.4190     0.4768     0.5947  0.9857  0.7131    0.9857\n",
       "5  0.8553     0.6057     0.8617  1.0000  0.5356    1.0000"
      ]
     },
     "execution_count": 14,
     "metadata": {},
     "output_type": "execute_result"
    }
   ],
   "source": [
    "df = pd.DataFrame(results, columns= [\"Alpha\", \"Heuristic\", \"Inductive\", \"Deap\", \"Optuna\", \"HyperOpt\"])\n",
    "df"
   ]
  },
  {
   "cell_type": "code",
   "execution_count": 15,
   "metadata": {},
   "outputs": [
    {
     "name": "stdout",
     "output_type": "stream",
     "text": [
      "Rejecting null hypothesis that data is normal for column Alpha (p=0.001399<0.008333)\n",
      "Fail to reject null hypothesis that data is normal for column Heuristic (p=0.079958>=0.008333)\n",
      "Fail to reject null hypothesis that data is normal for column Inductive (p=0.098311>=0.008333)\n",
      "Rejecting null hypothesis that data is normal for column Deap (p=0.001351<0.008333)\n",
      "Fail to reject null hypothesis that data is normal for column Optuna (p=0.274783>=0.008333)\n",
      "Rejecting null hypothesis that data is normal for column HyperOpt (p=0.001351<0.008333)\n",
      "Using Levene's test for homoscedacity of non-normal data.\n",
      "Fail to reject null hypothesis that all variances are equal (p=0.097120>=0.050000)\n",
      "Using Friedman test as omnibus test\n",
      "Rejecting null hypothesis that there is no difference between the distributions (p=0.000149)\n",
      "Using Nemenyi post-hoc test. Differences are significant,if the distance between the mean ranks is greater than the critical distance.\n"
     ]
    },
    {
     "data": {
      "text/plain": [
       "<Axes: >"
      ]
     },
     "execution_count": 15,
     "metadata": {},
     "output_type": "execute_result"
    },
    {
     "data": {
      "image/png": "[encoded data removed]",
      "text/plain": [
       "<Figure size 600x185 with 1 Axes>"
      ]
     },
     "metadata": {},
     "output_type": "display_data"
    }
   ],
   "source": [
    "from autorank import autorank, plot_stats\n",
    "\n",
    "result = autorank(df, alpha=0.05, verbose=True, order='ascending')\n",
    "plot_stats(result)\n"
   ]
  }
 ],
 "metadata": {
  "kernelspec": {
   "display_name": "Python 3",
   "language": "python",
   "name": "python3"
  },
  "language_info": {
   "codemirror_mode": {
    "name": "ipython",
    "version": 3
   },
   "file_extension": ".py",
   "mimetype": "text/x-python",
   "name": "python",
   "nbconvert_exporter": "python",
   "pygments_lexer": "ipython3",
   "version": "3.12.2"
  }
 },
 "nbformat": 4,
 "nbformat_minor": 2
}
