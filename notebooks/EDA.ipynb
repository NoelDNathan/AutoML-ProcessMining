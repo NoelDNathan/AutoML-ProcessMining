{
 "cells": [
  {
   "metadata": {
    "jupyter": {
     "is_executing": true
    }
   },
   "cell_type": "code",
   "source": [
    "import pm4py\n",
    "import pandas as pd\n",
    "import matplotlib.pyplot as plt\n",
    "from pm4py.statistics.start_activities.log.get import get_start_activities\n",
    "from pm4py.statistics.end_activities.log.get import get_end_activities\n",
    "from pm4py.algo.filtering.log.attributes import attributes_filter\n",
    "from pm4py.statistics.traces.generic.log import case_statistics\n",
    "from pm4py.algo.filtering.log.variants import variants_filter\n"
   ],
   "outputs": [],
   "execution_count": null
  },
  {
   "metadata": {},
   "cell_type": "code",
   "outputs": [],
   "execution_count": null,
   "source": "log = pm4py.read_xes(file_path)"
  }
 ],
 "metadata": {
  "kernelspec": {
   "display_name": "Python 3",
   "language": "python",
   "name": "python3"
  },
  "language_info": {
   "codemirror_mode": {
    "name": "ipython",
    "version": 3
   },
   "file_extension": ".py",
   "mimetype": "text/x-python",
   "name": "python",
   "nbconvert_exporter": "python",
   "pygments_lexer": "ipython3",
   "version": "3.12.2"
  }
 },
 "nbformat": 4,
 "nbformat_minor": 2
}
