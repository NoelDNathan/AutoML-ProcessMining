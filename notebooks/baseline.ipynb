{
 "cells": [
  {
   "cell_type": "code",
   "execution_count": 2,
   "metadata": {},
   "outputs": [],
   "source": [
    "from pm4py.algo.discovery.alpha import algorithm as alpha_miner\n",
    "from pm4py.visualization.petri_net import visualizer as pn_visualizer\n",
    "import pm4py\n",
    "from hyperopt import fmin, tpe, hp, Trials, STATUS_OK\n",
    "import sys\n",
    "sys.path.append('../') \n",
    "from utils.utilities import Utilities"
   ]
  },
  {
   "cell_type": "code",
   "execution_count": 6,
   "metadata": {},
   "outputs": [
    {
     "data": {
      "application/vnd.jupyter.widget-view+json": {
       "model_id": "d39a3f08553147aeb98995a04016d1a3",
       "version_major": 2,
       "version_minor": 0
      },
      "text/plain": [
       "parsing log, completed traces ::   0%|          | 0/7065 [00:00<?, ?it/s]"
      ]
     },
     "metadata": {},
     "output_type": "display_data"
    }
   ],
   "source": [
    "file_path = '../data/PermitLog.xes'\n",
    "log = pm4py.read_xes(file_path)"
   ]
  },
  {
   "cell_type": "code",
   "execution_count": 8,
   "metadata": {},
   "outputs": [],
   "source": [
    "net, initial_marking, final_marking = alpha_miner.apply(log)\n",
    "model = (net, initial_marking, final_marking)\n",
    "name = \"alpha_baseline\"\n",
    "data = Utilities.evaluate_and_save(log, model, name, \"mixed\")\n",
    "\n",
    "fitness = Utilities.fitness_score(log, model)\n",
    "simplicity = Utilities.simplicity_score(log, model)\n",
    "generalization = Utilities.generalization_score(log, model)\n",
    "\n",
    "print(f\"Fitness: {fitness}\")\n",
    "print(f\"Simplicity: {simplicity}\")\n",
    "print(f\"Generalization: {generalization}\")"
   ]
  },
  {
   "cell_type": "code",
   "execution_count": 11,
   "metadata": {},
   "outputs": [
    {
     "data": {
      "application/vnd.jupyter.widget-view+json": {
       "model_id": "c00273d13b28404b8d91321e9069f850",
       "version_major": 2,
       "version_minor": 0
      },
      "text/plain": [
       "replaying log with TBR, completed traces ::   0%|          | 0/1478 [00:00<?, ?it/s]"
      ]
     },
     "metadata": {},
     "output_type": "display_data"
    },
    {
     "data": {
      "application/vnd.jupyter.widget-view+json": {
       "model_id": "1a0f67dac820453da537fe3f402db203",
       "version_major": 2,
       "version_minor": 0
      },
      "text/plain": [
       "replaying log with TBR, completed traces ::   0%|          | 0/1478 [00:00<?, ?it/s]"
      ]
     },
     "metadata": {},
     "output_type": "display_data"
    },
    {
     "name": "stdout",
     "output_type": "stream",
     "text": [
      "Fitness: 1.0\n",
      "Simplicity: 0.5946547884187082\n",
      "Generalization: 0.8616797985629043\n"
     ]
    }
   ],
   "source": [
    "net, initial_marking, final_marking = pm4py.discover_petri_net_inductive(log)\n",
    "model = (net, initial_marking, final_marking)\n",
    "name = \"inductive_baseline\"\n",
    "data = Utilities.evaluate_and_save(log, model, name, \"mixed\")\n",
    "\n",
    "fitness = Utilities.fitness_score(log, model)\n",
    "simplicity = Utilities.simplicity_score(log, model)\n",
    "generalization = Utilities.generalization_score(log, model)\n",
    "\n",
    "print(f\"Fitness: {fitness}\")\n",
    "print(f\"Simplicity: {simplicity}\")\n",
    "print(f\"Generalization: {generalization}\")"
   ]
  },
  {
   "cell_type": "code",
   "execution_count": 13,
   "metadata": {},
   "outputs": [
    {
     "data": {
      "application/vnd.jupyter.widget-view+json": {
       "model_id": "025301dc7c544b77921816ac743aa87e",
       "version_major": 2,
       "version_minor": 0
      },
      "text/plain": [
       "replaying log with TBR, completed traces ::   0%|          | 0/1478 [00:00<?, ?it/s]"
      ]
     },
     "metadata": {},
     "output_type": "display_data"
    },
    {
     "data": {
      "application/vnd.jupyter.widget-view+json": {
       "model_id": "06906829396244ffb3916e796c157394",
       "version_major": 2,
       "version_minor": 0
      },
      "text/plain": [
       "replaying log with TBR, completed traces ::   0%|          | 0/1478 [00:00<?, ?it/s]"
      ]
     },
     "metadata": {},
     "output_type": "display_data"
    }
   ],
   "source": [
    "net, initial_marking, final_marking = pm4py.discover_petri_net_heuristics(log)\n",
    "model = (net, initial_marking, final_marking)\n",
    "name = \"heuristic_baseline\"\n",
    "data = Utilities.evaluate_and_save(log, model, name, \"mixed\")\n",
    "\n",
    "fitness = Utilities.fitness_score(log, model)\n",
    "simplicity = Utilities.simplicity_score(log, model)\n",
    "generalization = Utilities.generalization_score(log, model)\n",
    "\n",
    "print(f\"Fitness: {fitness}\")\n",
    "print(f\"Simplicity: {simplicity}\")\n",
    "print(f\"Generalization: {generalization}\")"
   ]
  }
 ],
 "metadata": {
  "kernelspec": {
   "display_name": "Python 3",
   "language": "python",
   "name": "python3"
  },
  "language_info": {
   "codemirror_mode": {
    "name": "ipython",
    "version": 3
   },
   "file_extension": ".py",
   "mimetype": "text/x-python",
   "name": "python",
   "nbconvert_exporter": "python",
   "pygments_lexer": "ipython3",
   "version": "3.12.2"
  }
 },
 "nbformat": 4,
 "nbformat_minor": 2
}
